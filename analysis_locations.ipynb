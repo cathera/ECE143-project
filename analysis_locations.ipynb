{
 "metadata": {
  "language_info": {
   "codemirror_mode": {
    "name": "ipython",
    "version": 3
   },
   "file_extension": ".py",
   "mimetype": "text/x-python",
   "name": "python",
   "nbconvert_exporter": "python",
   "pygments_lexer": "ipython3",
   "version": "3.8.3-final"
  },
  "orig_nbformat": 2,
  "kernelspec": {
   "name": "python3",
   "display_name": "Python 3"
  }
 },
 "nbformat": 4,
 "nbformat_minor": 2,
 "cells": [
  {
   "cell_type": "code",
   "execution_count": 10,
   "metadata": {},
   "outputs": [],
   "source": [
    "import pandas as pd\n",
    "from matplotlib import pyplot as plt\n",
    "import numpy as np\n",
    "from geopy import distance\n"
   ]
  },
  {
   "cell_type": "code",
   "execution_count": 11,
   "metadata": {},
   "outputs": [],
   "source": [
    "data = pd.read_csv('data/US_Accidents_June20.csv')\n",
    "data = data[data['State']=='CA']\n"
   ]
  },
  {
   "cell_type": "code",
   "execution_count": 12,
   "metadata": {},
   "outputs": [],
   "source": [
    "class Location(object):\n",
    "    def __init__(self,a,b):\n",
    "        \"\"\"\n",
    "        class to act as a location node \n",
    "        :a: float\n",
    "        :b: float\n",
    "        \"\"\"\n",
    "        self._lat=a\n",
    "        self._lon=b\n",
    "        self._neighbors=[]\n",
    "        \n",
    "    def add_neighbor(self, other):\n",
    "        assert isinstance(other, Location)\n",
    "        if other not in self._neighbors:\n",
    "            self._neighbors.append((other))\n",
    "        if self not in other._neighbors:\n",
    "            other.add_neighbor(self)\n",
    "    def get_neighbors(self):\n",
    "        return int(len(self._neighbors))\n",
    "    def get_neighbors_list(self):\n",
    "        return self._neighbors\n",
    "    def get_coords(self):\n",
    "        return ((self._lat), (self._lon))"
   ]
  },
  {
   "cell_type": "code",
   "execution_count": 32,
   "metadata": {
    "tags": []
   },
   "outputs": [],
   "source": [
    "def find_most_accidents(data,d): \n",
    "    '''\n",
    "    Function that finds coordinates with most accidents within d distance of data set\n",
    "    param data: dataframe to use\n",
    "    type data: pandas.dataframe\n",
    "    param d: distance in yards to use at radius\n",
    "    type d: int  \n",
    "\n",
    "    ''' \n",
    "    assert isinstance(data,pd.DataFrame) and isinstance(d, int)\n",
    "    df=data.sort_values(by=['Start_Lat', 'Start_Lng']) #sort coordinate directions to minimize iteration time\n",
    "    longs=list(df['Start_Lng'].values)\n",
    "    lats=list(df['Start_Lat'].values)\n",
    "\n",
    "    ids=df['ID'].values\n",
    "\n",
    "    locs=[]\n",
    "    maxneighbors=0 \n",
    "    indx=0 # used to save index of location with most neighbors\n",
    "\n",
    "    for i in range(int(len(ids))):# create a location class for each of the \n",
    "        lats[i]=round(lats[i],6)\n",
    "        longs[i]=round(longs[i],6)\n",
    "        a=Location(lats[i],longs[i])\n",
    "        locs.append(a)\n",
    "\n",
    "    for i in range(int(len(ids))):\n",
    "        for j in range(i+1,int(len(ids))):\n",
    "            dist=distance.distance((lats[i],longs[i]), (lats[j],longs[j])).km * 1093.61\n",
    "            if  dist>d: # check if lat distance is greater than 100 yards, if so break this loop to eliminate unneeded computations.\n",
    "                break\n",
    "            if dist<=d: # if point to point distance is less than 100 years, add it to that locations neighbor list\n",
    "                locs[i].add_neighbor(locs[j])\n",
    "                if locs[i].get_neighbors()>maxneighbors:\n",
    "                    maxneighbors=locs[i].get_neighbors()\n",
    "                    indx=i\n",
    "\n",
    "\n",
    "    print('area with max neighbors of: ',locs[indx].get_neighbors(),' at list index: ',indx,' with coords: ',locs[indx].get_coords())\n",
    "    return (locs[indx].get_neighbors(),locs[indx].get_coords())\n",
    "\n"
   ]
  },
  {
   "cell_type": "code",
   "execution_count": 10,
   "metadata": {
    "tags": []
   },
   "outputs": [
    {
     "output_type": "stream",
     "name": "stdout",
     "text": [
      "area with max neighbors of:  720  at list index:  651621  with coords:  (37.808487, -122.366737)\n"
     ]
    }
   ],
   "source": [
    "\n",
    "max_cal100=find_most_accidents(data,100) #tuple containing coords and max number of accidents with 100 yards (all of california)"
   ]
  },
  {
   "cell_type": "code",
   "execution_count": 33,
   "metadata": {
    "tags": []
   },
   "outputs": [
    {
     "output_type": "stream",
     "name": "stdout",
     "text": [
      "area with max neighbors of:  165  at list index:  42633  with coords:  (33.176952, -117.351227)\n(165, (33.176952, -117.351227))\n"
     ]
    }
   ],
   "source": [
    "max_sandiego50=find_most_accidents(data[data['County']=='San Diego'],50) #tuple containing coords and max number of accidents with 100 yards (San Diego County)\n",
    "print(max_sandiego50)"
   ]
  },
  {
   "cell_type": "code",
   "execution_count": 35,
   "metadata": {},
   "outputs": [
    {
     "output_type": "stream",
     "name": "stdout",
     "text": [
      "area with max neighbors of:  115  at list index:  526  with coords:  (32.87556, -117.22873)\n(115, (32.87556, -117.22873))\n"
     ]
    }
   ],
   "source": [
    "max_lajolla50=find_most_accidents(data[data['City']=='La Jolla'],50)  #tuple containing coords and max number of accidents with 100 yards (City of La Jolla)\n",
    "print(max_lajolla50)"
   ]
  },
  {
   "cell_type": "code",
   "execution_count": null,
   "metadata": {},
   "outputs": [],
   "source": []
  }
 ]
}