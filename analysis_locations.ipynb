{
 "metadata": {
  "language_info": {
   "codemirror_mode": {
    "name": "ipython",
    "version": 3
   },
   "file_extension": ".py",
   "mimetype": "text/x-python",
   "name": "python",
   "nbconvert_exporter": "python",
   "pygments_lexer": "ipython3",
   "version": "3.8.3-final"
  },
  "orig_nbformat": 2,
  "kernelspec": {
   "name": "python3",
   "display_name": "Python 3"
  }
 },
 "nbformat": 4,
 "nbformat_minor": 2,
 "cells": [
  {
   "cell_type": "code",
   "execution_count": 1,
   "metadata": {},
   "outputs": [],
   "source": [
    "import pandas as pd\n",
    "from matplotlib import pyplot as plt\n",
    "import numpy as np\n",
    "from geopy import distance\n"
   ]
  },
  {
   "cell_type": "code",
   "execution_count": 2,
   "metadata": {},
   "outputs": [],
   "source": [
    "data = pd.read_csv('data/US_Accidents_June20.csv')\n",
    "data = data[data['State']=='CA']"
   ]
  },
  {
   "cell_type": "code",
   "execution_count": 3,
   "metadata": {},
   "outputs": [],
   "source": [
    "class Location(object):\n",
    "    def __init__(self,a,b):\n",
    "        \"\"\"\n",
    "        :a: float\n",
    "        :b: float\n",
    "        \"\"\"\n",
    "        #assert isinstance(a,float) and isinstance(b,float)\n",
    "        self._lat=a\n",
    "        self._lon=b\n",
    "        self._neighbors=[]\n",
    "        \n",
    "    def add_neighbor(self, other):\n",
    "        assert isinstance(other, Location)\n",
    "        if (other._lat,other._lon) not in self._neighbors:\n",
    "            self._neighbors.append((other._lat,other._lon))\n",
    "        if (self._lat,self._lon) not in other._neighbors:\n",
    "            other.add_neighbor(self)\n",
    "    def get_neighbors(self):\n",
    "        return int(len(self._neighbors))\n",
    "    def get_neighbors_list(self):\n",
    "        return self._neighbors\n",
    "    def get_coords(self):\n",
    "        return ((self._lat), (self._lon))"
   ]
  },
  {
   "cell_type": "code",
   "execution_count": 4,
   "metadata": {},
   "outputs": [],
   "source": [
    "#df=data.sort_values(by=['Start_Lat', 'Start_Lng'])"
   ]
  },
  {
   "cell_type": "code",
   "execution_count": 10,
   "metadata": {
    "tags": []
   },
   "outputs": [
    {
     "output_type": "error",
     "ename": "SyntaxError",
     "evalue": "invalid syntax (<ipython-input-10-e48bbc64be33>, line 21)",
     "traceback": [
      "\u001b[1;36m  File \u001b[1;32m\"<ipython-input-10-e48bbc64be33>\"\u001b[1;36m, line \u001b[1;32m21\u001b[0m\n\u001b[1;33m    if (distance.distance((lats[i],longs[i]), (lats[j],longs[j])),.km * 1093.61) <=100.0:\u001b[0m\n\u001b[1;37m                                                                  ^\u001b[0m\n\u001b[1;31mSyntaxError\u001b[0m\u001b[1;31m:\u001b[0m invalid syntax\n"
     ]
    }
   ],
   "source": [
    "df=data.sort_values('Start_Lat')\n",
    "longs=list(df['Start_Lng'].values)\n",
    "lats=list(df['Start_Lat'].values)\n",
    "\n",
    "ids=df['ID'].values\n",
    "\n",
    "\n",
    "locs=[]\n",
    "maxneighbors=0\n",
    "for i in range(int(len(ids))):\n",
    "    lats[i]=round(lats[i],6)\n",
    "    longs[i]=round(longs[i],6)\n",
    "    a=Location(lats[i],longs[i])\n",
    "    locs.append(a)\n",
    "indx=0\n",
    "for i in range(int(len(ids))):\n",
    "    for j in range(i+1,int(len(ids))):\n",
    "        if (distance.distance((lats[i],longs[i]), (lats[j],longs[i])).km * 1093.61) >100.0: #check if distance is greater than 100 yards where\n",
    "            break\n",
    "    \n",
    "        if (distance.distance((lats[i],longs[i]), (lats[j],longs[j])),.km * 1093.61) <=100.0:\n",
    "            locs[i].add_neighbor(locs[j])\n",
    "            if locs[i].get_neighbors()>maxneighbors:\n",
    "                maxneighbors=locs[i].get_neighbors()\n",
    "                indx=i\n",
    "                print('max neighbors of: ',locs[i].get_neighbors(),' at index ',i)\n",
    "\n"
   ]
  },
  {
   "cell_type": "code",
   "execution_count": 6,
   "metadata": {},
   "outputs": [
    {
     "output_type": "stream",
     "name": "stdout",
     "text": [
      "              ID         Source  TMC  Severity        Start_Time  \\\n246862   A-72126       MapQuest  201         3   11/15/2016 0:38   \n246930  A-401856       MapQuest  201         2     4/4/2017 9:23   \n246948  A-439693       MapQuest  201         3    5/15/2017 5:42   \n246853   A-64989       MapQuest  201         3   1/23/2017 18:53   \n246855   A-65706       MapQuest  201         3   1/26/2017 18:03   \n...          ...            ...  ...       ...               ...   \n70263   A-891075       MapQuest  241         2  11/15/2019 10:17   \n70264   A-891082       MapQuest  241         2  11/15/2019 15:42   \n70261   A-831403  MapQuest-Bing  241         2   10/19/2019 9:10   \n109632  A-822483       MapQuest  241         2  10/15/2019 13:10   \n105170  A-753513       MapQuest  241         3    12/1/2019 5:39   \n\n                End_Time  Start_Lat   Start_Lng  End_Lat  End_Lng  ...  \\\n246862   11/15/2016 1:06  32.542587 -117.029579      NaN      NaN  ...   \n246930     4/4/2017 9:52  32.542774 -117.029907      NaN      NaN  ...   \n246948    5/15/2017 6:26  32.542774 -117.029907      NaN      NaN  ...   \n246853   1/23/2017 19:38  32.543114 -117.031006      NaN      NaN  ...   \n246855   1/26/2017 18:47  32.543114 -117.031006      NaN      NaN  ...   \n...                  ...        ...         ...      ...      ...  ...   \n70263   11/15/2019 10:47  41.810299 -124.121964      NaN      NaN  ...   \n70264   11/15/2019 18:18  41.811481 -124.108681      NaN      NaN  ...   \n70261   10/19/2019 10:26  41.825516 -124.032402      NaN      NaN  ...   \n109632  10/15/2019 15:25  41.826672 -122.979523      NaN      NaN  ...   \n105170    12/1/2019 6:24  41.854946 -122.571564      NaN      NaN  ...   \n\n        Roundabout Station   Stop Traffic_Calming Traffic_Signal Turning_Loop  \\\n246862       False   False  False           False          False        False   \n246930       False   False  False           False          False        False   \n246948       False   False  False           False          False        False   \n246853       False   False  False           False          False        False   \n246855       False   False  False           False          False        False   \n...            ...     ...    ...             ...            ...          ...   \n70263        False   False  False           False          False        False   \n70264        False   False  False           False          False        False   \n70261        False   False  False           False          False        False   \n109632       False   False  False           False          False        False   \n105170       False   False  False           False          False        False   \n\n       Sunrise_Sunset Civil_Twilight Nautical_Twilight Astronomical_Twilight  \n246862          Night          Night             Night                 Night  \n246930            Day            Day               Day                   Day  \n246948          Night            Day               Day                   Day  \n246853          Night          Night             Night                 Night  \n246855          Night          Night               Day                   Day  \n...               ...            ...               ...                   ...  \n70263             Day            Day               Day                   Day  \n70264             Day            Day               Day                   Day  \n70261             Day            Day               Day                   Day  \n109632            Day            Day               Day                   Day  \n105170          Night          Night             Night                   Day  \n\n[255686 rows x 49 columns]\n32.964591999999996 -117.095573\n             ID    Source  TMC  Severity       Start_Time         End_Time  \\\n231418  A-18286  MapQuest  201         3  11/23/2016 5:17  11/23/2016 5:52   \n\n        Start_Lat   Start_Lng  End_Lat  End_Lng  ...  Roundabout Station  \\\n231418   37.80843 -122.366798      NaN      NaN  ...       False   False   \n\n         Stop Traffic_Calming Traffic_Signal Turning_Loop Sunrise_Sunset  \\\n231418  False           False          False        False          Night   \n\n       Civil_Twilight Nautical_Twilight Astronomical_Twilight  \n231418          Night             Night                 Night  \n\n[1 rows x 49 columns]\n102.17058906669858\n{(32.964588, -117.095253), (32.964766999999995, -117.09540600000001), (32.964664, -117.09533700000001), (32.964588, -117.0951), (32.964748, -117.09562700000001), (32.96455, -117.095551), (32.964653000000006, -117.095055), (32.964607, -117.09538300000001), (32.964569, -117.095818), (32.964560999999996, -117.09511599999999), (32.964596, -117.095451), (32.964591999999996, -117.095573), (32.964653000000006, -117.095032), (32.964615, -117.09578700000002), (32.964698999999996, -117.095978), (32.964752000000004, -117.095413), (32.964729, -117.09558899999999), (32.964607, -117.09539), (32.964603000000004, -117.095032), (32.964733, -117.095428), (32.964554, -117.095818), (32.964645000000004, -117.09576399999999), (32.964542, -117.095551), (32.964690999999995, -117.095055), (32.964661, -117.094978)}\n32.542587 -117.029579\n32.542774 -117.02990700000001\n32.542774 -117.02990700000001\n32.543114 -117.031006\n32.543114 -117.031006\n"
     ]
    }
   ],
   "source": [
    "print(df)\n",
    "print(lats[indx],longs[indx])\n",
    "print(df[df['Start_Lat']==37.80843])\n",
    "print(distance.distance((42.652389,-83.745902), (42.653230,-83.745895)).km * 1093.61)\n",
    "a=locs[indx].get_neighbors_list()\n",
    "print(a)\n",
    "for i in range(5):\n",
    "    print(lats[i],longs[i])\n",
    "\n"
   ]
  },
  {
   "cell_type": "code",
   "execution_count": null,
   "metadata": {},
   "outputs": [],
   "source": []
  },
  {
   "cell_type": "code",
   "execution_count": null,
   "metadata": {},
   "outputs": [],
   "source": []
  }
 ]
}